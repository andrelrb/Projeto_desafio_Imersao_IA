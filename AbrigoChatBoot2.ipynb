{
  "nbformat": 4,
  "nbformat_minor": 0,
  "metadata": {
    "colab": {
      "provenance": [],
      "authorship_tag": "ABX9TyNwevpcwISngpnlwbCYyzKm",
      "include_colab_link": true
    },
    "kernelspec": {
      "name": "python3",
      "display_name": "Python 3"
    },
    "language_info": {
      "name": "python"
    }
  },
  "cells": [
    {
      "cell_type": "markdown",
      "metadata": {
        "id": "view-in-github",
        "colab_type": "text"
      },
      "source": [
        "<a href=\"https://colab.research.google.com/github/andrelrb/Projeto_desafio_Imersao_IA/blob/main/AbrigoChatBoot2.ipynb\" target=\"_parent\"><img src=\"https://colab.research.google.com/assets/colab-badge.svg\" alt=\"Open In Colab\"/></a>"
      ]
    },
    {
      "cell_type": "markdown",
      "source": [
        "**Instalação da biblioteca google-generative**"
      ],
      "metadata": {
        "id": "W71KWpj1tO1j"
      }
    },
    {
      "cell_type": "code",
      "execution_count": 16,
      "metadata": {
        "id": "kGZIVmgvs60h"
      },
      "outputs": [],
      "source": [
        "!pip install -q -U google-generativeai"
      ]
    },
    {
      "cell_type": "markdown",
      "source": [
        "**Instalação da biblioteca Pillow**"
      ],
      "metadata": {
        "id": "lS8lM_eLtU6u"
      }
    },
    {
      "cell_type": "code",
      "source": [
        "!pip install Pillow"
      ],
      "metadata": {
        "colab": {
          "base_uri": "https://localhost:8080/"
        },
        "id": "itip6g-GtVNA",
        "outputId": "db85dea7-5cab-43e1-f9bf-72d6febe69bc"
      },
      "execution_count": 2,
      "outputs": [
        {
          "output_type": "stream",
          "name": "stdout",
          "text": [
            "Requirement already satisfied: Pillow in /usr/local/lib/python3.10/dist-packages (9.4.0)\n"
          ]
        }
      ]
    },
    {
      "cell_type": "markdown",
      "source": [
        "Configuração API Key Google"
      ],
      "metadata": {
        "id": "j8qCVRpJtsdd"
      }
    },
    {
      "cell_type": "code",
      "source": [
        "import google.generativeai as genai\n",
        "from google.colab import userdata\n",
        "API_KEY = userdata.get('SECRET_KEY')\n",
        "genai.configure(api_key=API_KEY)"
      ],
      "metadata": {
        "id": "uKuERwZKtdsf"
      },
      "execution_count": 3,
      "outputs": []
    },
    {
      "cell_type": "markdown",
      "source": [
        "**Chatbot de Ajuda a busca de Abrigo:**\n"
      ],
      "metadata": {
        "id": "Y1WMDe8HyB--"
      }
    },
    {
      "cell_type": "code",
      "source": [
        "import google.generativeai as genai\n",
        "import requests\n",
        "import json\n",
        "\n",
        "model = genai.GenerativeModel('gemini-1.0-pro')\n",
        "\n",
        "# URL do arquivo JSON com dados dos abrigos\n",
        "url_abrigos = 'https://a7comunicacaodigital.com.br/abrigochatboot/abrigos_rs.json'\n",
        "\n",
        "# Carregar dados de abrigos da URL\n",
        "def carregar_abrigos():\n",
        "  resposta = requests.get(url_abrigos)\n",
        "  if resposta.status_code == 200:\n",
        "    return resposta.json()\n",
        "  else:\n",
        "    print(f\"Erro ao carregar dados de abrigos. Código de status: {resposta.status_code}\")\n",
        "    return None\n",
        "\n",
        "# Função para encontrar abrigo baseado na cidade e bairro\n",
        "def encontrar_abrigo(cidade, bairro):\n",
        "  abrigos = carregar_abrigos()\n",
        "  if abrigos is None:\n",
        "    return None\n",
        "\n",
        "  cidades_disponiveis = set([abrigo['cidade'].lower() for abrigo in abrigos])\n",
        "  bairros_disponiveis = set([abrigo['bairro'].lower() for abrigo in abrigos if abrigo['cidade'].lower() == cidade.lower()])\n",
        "\n",
        "  if cidade.lower() not in cidades_disponiveis:\n",
        "    print(f\"Desculpe, ainda não temos informações sobre abrigos na cidade de {cidade}.\")\n",
        "    return None\n",
        "  elif bairro.lower() not in bairros_disponiveis:\n",
        "    print(f\"Desculpe, ainda não temos informações sobre abrigos no bairro {bairro} em {cidade}.\")\n",
        "    return None\n",
        "\n",
        "  for abrigo in abrigos:\n",
        "    if abrigo['cidade'].lower() == cidade.lower() and abrigo['bairro'].lower() == bairro.lower():\n",
        "      return abrigo\n",
        "\n",
        "# Função para gerar mensagens personalizadas com o Gemini\n",
        "def gerar_mensagem(abrigo, tem_alimentacao, tem_agua):\n",
        "  prompt = f\"Crie uma mensagem informando sobre o abrigo {abrigo['nome']} no bairro {abrigo['bairro']} em {abrigo['cidade']}.\"\n",
        "  if tem_alimentacao:\n",
        "    prompt += \" Mencione que o abrigo oferece alimentação.\"\n",
        "  if tem_agua:\n",
        "    prompt += \" Mencione que o abrigo oferece água.\"\n",
        "  response = model.generate_content(prompt)\n",
        "  return response.text\n",
        "\n",
        "# Função principal do chatbot\n",
        "def iniciar_chatbot():\n",
        "  while True:\n",
        "    print(\" Olá! Sou o AbrigoBot, posso te ajudar a achar um abrigo ? \")\n",
        "    print(\"-> Qual a sua cidade?\")\n",
        "    cidade = input(\"R: \")\n",
        "    print(\"-> Qual o seu bairro?\")\n",
        "    bairro = input(\"R: \")\n",
        "    print(\"\\n\")\n",
        "\n",
        "    abrigo = encontrar_abrigo(cidade, bairro)\n",
        "\n",
        "    if abrigo:\n",
        "      mensagem = gerar_mensagem(abrigo, abrigo['alimentacao'], abrigo['agua'])\n",
        "      print(mensagem)\n",
        "      break  # Sai do loop se encontrar um abrigo\n",
        "    else:\n",
        "      print(\"Gostaria de tentar outra localização? (s/n)\")\n",
        "      continuar = input().lower()\n",
        "      if continuar != 's':\n",
        "        break  # Sai do loop se o usuário não quiser continuar\n",
        "\n",
        "# Iniciar o chatbot\n",
        "iniciar_chatbot()"
      ],
      "metadata": {
        "colab": {
          "base_uri": "https://localhost:8080/",
          "height": 295
        },
        "id": "WTCspv3k0N1v",
        "outputId": "d2d58c28-8500-4c5e-baa9-2e179e878b6c"
      },
      "execution_count": 42,
      "outputs": [
        {
          "output_type": "stream",
          "name": "stdout",
          "text": [
            " Olá! Sou o AbrigoBot, posso te ajudar a achar um abrigo ? \n",
            "-> Qual a sua cidade?\n",
            "R: Cristal\n",
            "-> Qual o seu bairro?\n",
            "R: Longaray\n",
            "\n",
            "\n",
            "**Abrigo Disponível no Bairro Longaray**\n",
            "\n",
            "O Abrigo, localizado no bairro Longaray em Cristal, está oferecendo abrigo, alimentação e água para aqueles necessitados.\n",
            "\n",
            "O abrigo está aberto 24 horas por dia, 7 dias por semana, e oferece um lugar seguro e aconchegante para ficar. Também fornece refeições nutritivas e água potável para manter as pessoas saudáveis e hidratadas.\n",
            "\n",
            "Para obter acesso ao abrigo, basta comparecer ao local. Nenhum documento ou identificação é necessário.\n",
            "\n",
            "Se você ou alguém que você conhece precisar de um lugar para ficar, não hesite em procurar o Abrigo. A equipe acolhedora e prestativa está pronta para ajudar.\n"
          ]
        }
      ]
    }
  ]
}