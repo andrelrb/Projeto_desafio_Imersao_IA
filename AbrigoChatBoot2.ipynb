{
  "nbformat": 4,
  "nbformat_minor": 0,
  "metadata": {
    "colab": {
      "provenance": [],
      "authorship_tag": "ABX9TyNK8+YjtBjAr+an50iWiU0L",
      "include_colab_link": true
    },
    "kernelspec": {
      "name": "python3",
      "display_name": "Python 3"
    },
    "language_info": {
      "name": "python"
    }
  },
  "cells": [
    {
      "cell_type": "markdown",
      "metadata": {
        "id": "view-in-github",
        "colab_type": "text"
      },
      "source": [
        "<a href=\"https://colab.research.google.com/github/andrelrb/Projeto_desafio_Imersao_IA/blob/main/AbrigoChatBoot2.ipynb\" target=\"_parent\"><img src=\"https://colab.research.google.com/assets/colab-badge.svg\" alt=\"Open In Colab\"/></a>"
      ]
    },
    {
      "cell_type": "markdown",
      "source": [
        "**Instalação da biblioteca google-generative**"
      ],
      "metadata": {
        "id": "W71KWpj1tO1j"
      }
    },
    {
      "cell_type": "code",
      "execution_count": 16,
      "metadata": {
        "id": "kGZIVmgvs60h"
      },
      "outputs": [],
      "source": [
        "!pip install -q -U google-generativeai"
      ]
    },
    {
      "cell_type": "markdown",
      "source": [
        "**Instalação da biblioteca Pillow**"
      ],
      "metadata": {
        "id": "lS8lM_eLtU6u"
      }
    },
    {
      "cell_type": "code",
      "source": [
        "!pip install Pillow"
      ],
      "metadata": {
        "colab": {
          "base_uri": "https://localhost:8080/"
        },
        "id": "itip6g-GtVNA",
        "outputId": "db85dea7-5cab-43e1-f9bf-72d6febe69bc"
      },
      "execution_count": 2,
      "outputs": [
        {
          "output_type": "stream",
          "name": "stdout",
          "text": [
            "Requirement already satisfied: Pillow in /usr/local/lib/python3.10/dist-packages (9.4.0)\n"
          ]
        }
      ]
    },
    {
      "cell_type": "markdown",
      "source": [
        "Configuração API Key Google"
      ],
      "metadata": {
        "id": "j8qCVRpJtsdd"
      }
    },
    {
      "cell_type": "code",
      "source": [
        "import google.generativeai as genai\n",
        "from google.colab import userdata\n",
        "API_KEY = userdata.get('SECRET_KEY')\n",
        "genai.configure(api_key=API_KEY)"
      ],
      "metadata": {
        "id": "uKuERwZKtdsf"
      },
      "execution_count": 3,
      "outputs": []
    },
    {
      "cell_type": "markdown",
      "source": [
        "Instale as bibliotecas necessárias: Testar ??"
      ],
      "metadata": {
        "id": "98pyXGeMxYN4"
      }
    },
    {
      "cell_type": "markdown",
      "source": [
        "**Importe as bibliotecas:**"
      ],
      "metadata": {
        "id": "Dk-0jX_PxgTC"
      }
    },
    {
      "cell_type": "markdown",
      "source": [
        "Crie um chatbot e treine-o com dados básicos:"
      ],
      "metadata": {
        "id": "Y1WMDe8HyB--"
      }
    },
    {
      "cell_type": "code",
      "source": [
        "import google.generativeai as genai\n",
        "import requests\n",
        "import json\n",
        "\n",
        "model = genai.GenerativeModel('gemini-pro')\n",
        "\n",
        "# URL do arquivo JSON com dados dos abrigos\n",
        "url_abrigos = 'https://a7comunicacaodigital.com.br/abrigochatboot/abrigos_rs.json'\n",
        "\n",
        "# Carregar dados de abrigos da URL\n",
        "def carregar_abrigos():\n",
        "  resposta = requests.get(url_abrigos)\n",
        "  if resposta.status_code == 200:\n",
        "    return resposta.json()\n",
        "  else:\n",
        "    print(f\"Erro ao carregar dados de abrigos. Código de status: {resposta.status_code}\")\n",
        "    return None\n",
        "\n",
        "# Função para encontrar abrigo baseado na cidade e bairro\n",
        "def encontrar_abrigo(cidade, bairro):\n",
        "  abrigos = carregar_abrigos()\n",
        "  if abrigos is None:\n",
        "    return None\n",
        "\n",
        "  cidades_disponiveis = set([abrigo['cidade'].lower() for abrigo in abrigos])\n",
        "  bairros_disponiveis = set([abrigo['bairro'].lower() for abrigo in abrigos if abrigo['cidade'].lower() == cidade.lower()])\n",
        "\n",
        "  if cidade.lower() not in cidades_disponiveis:\n",
        "    print(f\"Desculpe, ainda não temos informações sobre abrigos na cidade de {cidade}.\")\n",
        "    return None\n",
        "  elif bairro.lower() not in bairros_disponiveis:\n",
        "    print(f\"Desculpe, ainda não temos informações sobre abrigos no bairro {bairro} em {cidade}.\")\n",
        "    return None\n",
        "\n",
        "  for abrigo in abrigos:\n",
        "    if abrigo['cidade'].lower() == cidade.lower() and abrigo['bairro'].lower() == bairro.lower():\n",
        "      return abrigo\n",
        "\n",
        "# Função para gerar mensagens personalizadas com o Gemini\n",
        "def gerar_mensagem(abrigo, tem_alimentacao, tem_agua):\n",
        "  prompt = f\"Crie uma mensagem informando sobre o abrigo {abrigo['nome']} no bairro {abrigo['bairro']} em {abrigo['cidade']}.\"\n",
        "  if tem_alimentacao:\n",
        "    prompt += \" Mencione que o abrigo oferece alimentação.\"\n",
        "  if tem_agua:\n",
        "    prompt += \" Mencione que o abrigo oferece água.\"\n",
        "  response = model.generate_content(prompt)\n",
        "  return response.text\n",
        "\n",
        "# Função principal do chatbot\n",
        "def iniciar_chatbot():\n",
        "  while True:\n",
        "    print(\" Olá! Sou o AbrigoBot, posso te ajudar a achar um abrigo ? \")\n",
        "    print(\"-> Qual a sua cidade?\")\n",
        "    cidade = input(\"R: \")\n",
        "    print(\"-> Qual o seu bairro?\")\n",
        "    bairro = input(\"R: \")\n",
        "    print(\"\\n\")\n",
        "\n",
        "    abrigo = encontrar_abrigo(cidade, bairro)\n",
        "\n",
        "    if abrigo:\n",
        "      mensagem = gerar_mensagem(abrigo, abrigo['alimentacao'], abrigo['agua'])\n",
        "      print(mensagem)\n",
        "      break  # Sai do loop se encontrar um abrigo\n",
        "    else:\n",
        "      print(\"Gostaria de tentar outra localização? (s/n)\")\n",
        "      continuar = input().lower()\n",
        "      if continuar != 's':\n",
        "        break  # Sai do loop se o usuário não quiser continuar\n",
        "\n",
        "# Iniciar o chatbot\n",
        "iniciar_chatbot()"
      ],
      "metadata": {
        "colab": {
          "base_uri": "https://localhost:8080/",
          "height": 356
        },
        "id": "WTCspv3k0N1v",
        "outputId": "6a01da46-ae16-45ee-9b1d-7e913f54e054"
      },
      "execution_count": 39,
      "outputs": [
        {
          "output_type": "stream",
          "name": "stdout",
          "text": [
            " Olá! Sou o AbrigoBot, posso te ajudar a achar um abrigo ? \n",
            "-> Qual a sua cidade?\n"
          ]
        },
        {
          "output_type": "error",
          "ename": "KeyboardInterrupt",
          "evalue": "Interrupted by user",
          "traceback": [
            "\u001b[0;31m---------------------------------------------------------------------------\u001b[0m",
            "\u001b[0;31mKeyboardInterrupt\u001b[0m                         Traceback (most recent call last)",
            "\u001b[0;32m<ipython-input-39-523fb9f56b72>\u001b[0m in \u001b[0;36m<cell line: 72>\u001b[0;34m()\u001b[0m\n\u001b[1;32m     70\u001b[0m \u001b[0;34m\u001b[0m\u001b[0m\n\u001b[1;32m     71\u001b[0m \u001b[0;31m# Iniciar o chatbot\u001b[0m\u001b[0;34m\u001b[0m\u001b[0;34m\u001b[0m\u001b[0m\n\u001b[0;32m---> 72\u001b[0;31m \u001b[0miniciar_chatbot\u001b[0m\u001b[0;34m(\u001b[0m\u001b[0;34m)\u001b[0m\u001b[0;34m\u001b[0m\u001b[0;34m\u001b[0m\u001b[0m\n\u001b[0m",
            "\u001b[0;32m<ipython-input-39-523fb9f56b72>\u001b[0m in \u001b[0;36miniciar_chatbot\u001b[0;34m()\u001b[0m\n\u001b[1;32m     52\u001b[0m     \u001b[0mprint\u001b[0m\u001b[0;34m(\u001b[0m\u001b[0;34m\" Olá! Sou o AbrigoBot, posso te ajudar a achar um abrigo ? \"\u001b[0m\u001b[0;34m)\u001b[0m\u001b[0;34m\u001b[0m\u001b[0;34m\u001b[0m\u001b[0m\n\u001b[1;32m     53\u001b[0m     \u001b[0mprint\u001b[0m\u001b[0;34m(\u001b[0m\u001b[0;34m\"-> Qual a sua cidade?\"\u001b[0m\u001b[0;34m)\u001b[0m\u001b[0;34m\u001b[0m\u001b[0;34m\u001b[0m\u001b[0m\n\u001b[0;32m---> 54\u001b[0;31m     \u001b[0mcidade\u001b[0m \u001b[0;34m=\u001b[0m \u001b[0minput\u001b[0m\u001b[0;34m(\u001b[0m\u001b[0;34m\"R: \"\u001b[0m\u001b[0;34m)\u001b[0m\u001b[0;34m\u001b[0m\u001b[0;34m\u001b[0m\u001b[0m\n\u001b[0m\u001b[1;32m     55\u001b[0m     \u001b[0mprint\u001b[0m\u001b[0;34m(\u001b[0m\u001b[0;34m\"-> Qual o seu bairro?\"\u001b[0m\u001b[0;34m)\u001b[0m\u001b[0;34m\u001b[0m\u001b[0;34m\u001b[0m\u001b[0m\n\u001b[1;32m     56\u001b[0m     \u001b[0mbairro\u001b[0m \u001b[0;34m=\u001b[0m \u001b[0minput\u001b[0m\u001b[0;34m(\u001b[0m\u001b[0;34m\"R: \"\u001b[0m\u001b[0;34m)\u001b[0m\u001b[0;34m\u001b[0m\u001b[0;34m\u001b[0m\u001b[0m\n",
            "\u001b[0;32m/usr/local/lib/python3.10/dist-packages/ipykernel/kernelbase.py\u001b[0m in \u001b[0;36mraw_input\u001b[0;34m(self, prompt)\u001b[0m\n\u001b[1;32m    849\u001b[0m                 \u001b[0;34m\"raw_input was called, but this frontend does not support input requests.\"\u001b[0m\u001b[0;34m\u001b[0m\u001b[0;34m\u001b[0m\u001b[0m\n\u001b[1;32m    850\u001b[0m             )\n\u001b[0;32m--> 851\u001b[0;31m         return self._input_request(str(prompt),\n\u001b[0m\u001b[1;32m    852\u001b[0m             \u001b[0mself\u001b[0m\u001b[0;34m.\u001b[0m\u001b[0m_parent_ident\u001b[0m\u001b[0;34m,\u001b[0m\u001b[0;34m\u001b[0m\u001b[0;34m\u001b[0m\u001b[0m\n\u001b[1;32m    853\u001b[0m             \u001b[0mself\u001b[0m\u001b[0;34m.\u001b[0m\u001b[0m_parent_header\u001b[0m\u001b[0;34m,\u001b[0m\u001b[0;34m\u001b[0m\u001b[0;34m\u001b[0m\u001b[0m\n",
            "\u001b[0;32m/usr/local/lib/python3.10/dist-packages/ipykernel/kernelbase.py\u001b[0m in \u001b[0;36m_input_request\u001b[0;34m(self, prompt, ident, parent, password)\u001b[0m\n\u001b[1;32m    893\u001b[0m             \u001b[0;32mexcept\u001b[0m \u001b[0mKeyboardInterrupt\u001b[0m\u001b[0;34m:\u001b[0m\u001b[0;34m\u001b[0m\u001b[0;34m\u001b[0m\u001b[0m\n\u001b[1;32m    894\u001b[0m                 \u001b[0;31m# re-raise KeyboardInterrupt, to truncate traceback\u001b[0m\u001b[0;34m\u001b[0m\u001b[0;34m\u001b[0m\u001b[0m\n\u001b[0;32m--> 895\u001b[0;31m                 \u001b[0;32mraise\u001b[0m \u001b[0mKeyboardInterrupt\u001b[0m\u001b[0;34m(\u001b[0m\u001b[0;34m\"Interrupted by user\"\u001b[0m\u001b[0;34m)\u001b[0m \u001b[0;32mfrom\u001b[0m \u001b[0;32mNone\u001b[0m\u001b[0;34m\u001b[0m\u001b[0;34m\u001b[0m\u001b[0m\n\u001b[0m\u001b[1;32m    896\u001b[0m             \u001b[0;32mexcept\u001b[0m \u001b[0mException\u001b[0m \u001b[0;32mas\u001b[0m \u001b[0me\u001b[0m\u001b[0;34m:\u001b[0m\u001b[0;34m\u001b[0m\u001b[0;34m\u001b[0m\u001b[0m\n\u001b[1;32m    897\u001b[0m                 \u001b[0mself\u001b[0m\u001b[0;34m.\u001b[0m\u001b[0mlog\u001b[0m\u001b[0;34m.\u001b[0m\u001b[0mwarning\u001b[0m\u001b[0;34m(\u001b[0m\u001b[0;34m\"Invalid Message:\"\u001b[0m\u001b[0;34m,\u001b[0m \u001b[0mexc_info\u001b[0m\u001b[0;34m=\u001b[0m\u001b[0;32mTrue\u001b[0m\u001b[0;34m)\u001b[0m\u001b[0;34m\u001b[0m\u001b[0;34m\u001b[0m\u001b[0m\n",
            "\u001b[0;31mKeyboardInterrupt\u001b[0m: Interrupted by user"
          ]
        }
      ]
    },
    {
      "cell_type": "code",
      "source": [
        "chatbot = ChatBot('AbrigoBot')\n",
        "trainer = ListTrainer(chatbot)\n",
        "trainer.train([\n",
        "    \"Olá\",\n",
        "    \"Oi, como posso ajudar?\",\n",
        "    \"Preciso de um abrigo em Porto Alegre.\",\n",
        "    \"Qual bairro?\",\n",
        "    \"Centro\",\n",
        "    \"O Abrigo A fica no Centro e oferece alimentação e água.\"\n",
        "])"
      ],
      "metadata": {
        "id": "NPPrATLax-Vf"
      },
      "execution_count": null,
      "outputs": []
    },
    {
      "cell_type": "markdown",
      "source": [],
      "metadata": {
        "id": "cwYqzkQtxOll"
      }
    },
    {
      "cell_type": "markdown",
      "source": [
        "Chatbot"
      ],
      "metadata": {
        "id": "ITVAip8ft1oX"
      }
    },
    {
      "cell_type": "code",
      "source": [
        "import google.generativeai as genai\n",
        "import requests\n",
        "\n",
        "model = genai.GenerativeModel('gemini-pro')\n",
        "\n",
        "# Função para obter mensagem motivacional da API do Gemini\n",
        "def obter_mensagem_motivacional(ppi):\n",
        "  model = genai.GenerativeModel('gemini-pro')\n",
        "\n",
        "  if ppi > 6:\n",
        "    response = model.generate_content('Crie uma mensagem motivacional curta para alguém que está em uma fase delicada da saúde e precisa de cuidados paliativos sem mencionar a palavra paliativo.')\n",
        "  elif ppi > 4:\n",
        "    response = model.generate_content('Crie uma mensagem motivacional curta para alguém que está enfrentando desafios de saúde e precisa de apoio e cuidados paliativos sem mencionar a palavra paliativo.')\n",
        "  else:\n",
        "    response = model.generate_content('Crie uma mensagem motivacional curta para alguém que está buscando manter a qualidade de vida e planejar cuidados de longo prazo.')\n",
        "\n",
        "  #Mensagem gerada pela API do Gemini\n",
        "  return response.text\n",
        "\n",
        "  if response.status_code != 200:\n",
        "    print(f\"Erro ao chamar a API do Gemini: {response.status_code}\")\n",
        "    return \"Lembre-se que estamos sempre buscando o seu bem-estar. Cuide-se e fique bem.\"\n",
        "\n",
        "# Função para permitir que o usuário altere as respostas\n",
        "def corrigir_respostas(respostas):\n",
        "    while True:\n",
        "        resposta = perguntar(\"Está tudo certo com as suas respostas?\\nSim\\nNão\", (\"sim\", \"não\"))\n",
        "        if resposta == \"sim\":\n",
        "            print(f\"Obrigado por confirmar que suas informações estão corretas {nome_paciente}\")\n",
        "            break\n",
        "        else:\n",
        "            print(\"Caso não esteja, selecione qual pergunta deseja alterar:\")\n",
        "            for i, (pergunta, _) in enumerate(respostas.items()):\n",
        "                print(f\"{i+1} - {pergunta}\")\n",
        "\n",
        "            numero_pergunta = validar_numerica(input(), range(1, len(respostas) + 1))\n",
        "            pergunta_selecionada = list(respostas.keys())[numero_pergunta - 1]\n",
        "\n",
        "            # Obter as opções de resposta e o texto da pergunta\n",
        "            texto_pergunta, opcoes = obter_opcoes_pergunta(pergunta_selecionada)\n",
        "\n",
        "            # Exibir a pergunta completa e as opções de resposta\n",
        "            if opcoes:\n",
        "                print(f\"\\n{texto_pergunta}\")  # Exibe o texto completo da pergunta\n",
        "\n",
        "                # Divide o texto da pergunta em linhas\n",
        "                linhas_pergunta = texto_pergunta.split(\"\\n\")\n",
        "\n",
        "                # Imprime apenas as linhas que representam as opções\n",
        "                for linha in linhas_pergunta:\n",
        "                    if linha.startswith(\"-\"):\n",
        "                        print(linha)\n",
        "\n",
        "            # Solicitar a nova resposta (usando a função 'perguntar')\n",
        "            nova_resposta = perguntar(f\"Digite a nova resposta para '{pergunta_selecionada}':\", opcoes)\n",
        "            respostas[pergunta_selecionada] = nova_resposta\n",
        "\n",
        "            # Exibe o resumo das respostas atualizado\n",
        "            exibir_resumo(respostas)\n",
        "\n",
        "# Dicionários para mapear opções numéricas a strings de texto\n",
        "condicao_paciente_opcoes = {\n",
        "    1: \"O paciente apresentou melhoras.\",\n",
        "    2: \"O paciente está mantendo a mesma condição.\",\n",
        "    3: \"A condição do paciente se agravou.\",\n",
        "    4: \"Infelizmente, o paciente nos deixou.\"\n",
        "}\n",
        "\n",
        "alimentacao_paciente_opcoes = {\n",
        "    1: \"O paciente está comendo normalmente.\",\n",
        "    2: \"O paciente está comendo menos que o normal.\",\n",
        "    3: \"O paciente está comendo muito pouco ou se alimentando por sonda.\"\n",
        "}\n",
        "\n",
        "\n",
        "# Função para exibir o resumo das respostas\n",
        "def exibir_resumo(respostas):\n",
        "    print(\"Obrigado por responder a(s) pergunta(s). Aqui está um resumo das suas respostas:\")\n",
        "    for pergunta, resposta in respostas.items():\n",
        "        if pergunta == \"Condição atual do paciente\":\n",
        "            resposta_texto = condicao_paciente_opcoes.get(resposta, resposta)\n",
        "            print(f\"{pergunta}: {resposta_texto}\")\n",
        "        elif pergunta == \"Como está a alimentação do paciente?\":\n",
        "            resposta_texto = alimentacao_paciente_opcoes.get(resposta, resposta)\n",
        "            print(f\"{pergunta}: {resposta_texto}\")\n",
        "        else:\n",
        "            print(f\"{pergunta}: {resposta}\")\n",
        "\n",
        "\n",
        "# Função para obter as opções de resposta para uma pergunta específica\n",
        "def obter_opcoes_pergunta(pergunta):\n",
        "    # Mapeia as perguntas às suas opções válidas e seus textos completos\n",
        "    opcoes_por_pergunta = {\n",
        "        \"Condição atual do paciente\": (\n",
        "            f\"Por favor {nome_paciente}, selecione a opção que melhor descreve a condição atual do paciente:\\n1 - O paciente apresentou melhoras.\\n2 - O paciente está mantendo a mesma condição.\\n3  - A condição do paciente se agravou.\\n4  - Infelizmente, o paciente nos deixou.\",\n",
        "            (1, 2, 3, 4)\n",
        "        ),\n",
        "        \"O paciente consegue caminhar sozinho?\": (\n",
        "            \"Mobilidade:\\nO paciente consegue caminhar sozinho?\\nSim\\nNão\",\n",
        "            (\"sim\", \"não\")\n",
        "        ),\n",
        "        \"O paciente consegue tomar banho sozinho?\": (\n",
        "            \"Higiene Pessoal:\\nO paciente consegue tomar banho sozinho?\\nSim\\nNão\",\n",
        "            (\"sim\", \"não\")\n",
        "        ),\n",
        "        \"O paciente está acamado e dependente de ajuda?\": (\n",
        "            \"Dependência:\\nO paciente está acamado e dependente de ajuda?\\nSim\\nNão\",\n",
        "            (\"sim\", \"não\")\n",
        "        ),\n",
        "        \"Como está a alimentação do paciente?\": (\n",
        "            \"Como está a alimentação do paciente?\\n1 - O paciente está comendo normalmente?\\n2 - O paciente está comendo menos que o normal?\\n3 - O paciente está comendo muito pouco ou se alimentando por sonda?\",\n",
        "            (1, 2, 3)\n",
        "        ),\n",
        "        \"O paciente tem inchaço?\": (\n",
        "            \"O paciente tem inchaço?\\nSim\\nNão\",\n",
        "            (\"sim\", \"não\")\n",
        "        ),\n",
        "        \"O paciente tem falta de ar em repouso?\": (\n",
        "            \"O paciente tem falta de ar em repouso?\\nSim\\nNão\",\n",
        "            (\"sim\", \"não\")\n",
        "        ),\n",
        "        \"O paciente tem confusão mental?\": (\n",
        "            \"O paciente tem confusão mental?\\nSim\\nNão\",\n",
        "            (\"sim\", \"não\")\n",
        "        )\n",
        "    }\n",
        "    texto_pergunta, opcoes = opcoes_por_pergunta.get(pergunta, (\"\", None))\n",
        "    return texto_pergunta, opcoes\n",
        "\n",
        "\n",
        "# Função para validar respostas Sim/Não\n",
        "def validar_sim_nao(resposta):\n",
        "  while True:\n",
        "    if resposta.lower() in (\"sim\", \"não\"):\n",
        "      return resposta.lower()\n",
        "    else:\n",
        "      resposta = input(\" Por favor, insira uma resposta de acordo com as opções: \\nSim \\nNão \\n \")\n",
        "\n",
        "# Função para validar respostas numéricas\n",
        "def validar_numerica(resposta, opcoes):\n",
        "  while True:\n",
        "    try:\n",
        "      resposta = int(resposta)\n",
        "      if resposta in opcoes:\n",
        "          return resposta\n",
        "      else:\n",
        "          resposta = input(\" Por favor, insira uma resposta de acordo com as opções: \")\n",
        "    except ValueError:\n",
        "      resposta = input(\" Por favor, insira uma resposta numérica: \")\n",
        "\n",
        "# Função para exibir e validar as perguntas\n",
        "def perguntar(pergunta, opcoes_validas=None):\n",
        "  print(pergunta)\n",
        "  resposta = input()\n",
        "\n",
        "  if opcoes_validas == (\"sim\", \"não\"):\n",
        "    return validar_sim_nao(resposta)\n",
        "  elif opcoes_validas:\n",
        "    return validar_numerica(resposta, opcoes_validas)\n",
        "  else:\n",
        "    return resposta\n",
        "\n",
        "\n",
        "# Início do chatbot\n",
        "nome_paciente = input(\"Digite o nome do paciente: \")\n",
        "\n",
        "print(f\"Olá {nome_paciente}! Viemos hoje conversar sobre como estão os seus hábitos e o seu dia a dia para avaliarmos as suas condições clínicas.\")\n",
        "print(\"Vamos realizar uma avaliação através de perguntas relacionadas ao seu cotidiano.\")\n",
        "print(\"Suas respostas são confidenciais e usadas apenas para fins médicos. Ao continuar, você concorda com isso?\\nSim\\nNão\")\n",
        "\n",
        "resposta_inicial = validar_sim_nao(input())\n",
        "\n",
        "if resposta_inicial == \"sim\":\n",
        "  print(f\"Agradecemos a sua resposta {nome_paciente}, agora vamos iniciar a avaliação.\")\n",
        "  print(\"Por favor, verifique sempre as respostas se estão de acordo com o seu estado clínico. Vamos lá?!\")\n",
        "\n",
        "  # Inicializa o score do PPI\n",
        "  ppi = 0\n",
        "\n",
        "  # Dicionário para armazenar as respostas\n",
        "  respostas = {}\n",
        "\n",
        "  # Mensagem 2\n",
        "  respostas[\"Condição atual do paciente\"] = perguntar(f\"Por favor {nome_paciente}, selecione a opção que melhor descreve a condição atual do paciente:\\n1 - O paciente apresentou melhoras.\\n2 - O paciente está mantendo a mesma condição.\\n3 - A condição do paciente se agravou.\\n4 - Infelizmente, o paciente nos deixou.\", (1, 2, 3, 4))\n",
        "\n",
        "  if respostas[\"Condição atual do paciente\"] == 4:\n",
        "    print(\"Recebemos a informação de que o paciente faleceu. Neste momento de luto, queremos expressar nossas mais sinceras condolências.\")\n",
        "    print(\"Sabemos que não há palavras que possam verdadeiramente aliviar a dor, mas por favor, saiba que você não está sozinho.\")\n",
        "    response = model.generate_content('Crie uma mensagem curta e recomfortante de luto para alguém que perdeu um parente')\n",
        "    print(response.text)\n",
        "    print(\"Estamos aqui para oferecer apoio e assistência no que for necessário. Quando se sentir pronto, estamos disponíveis para ajudar com qualquer orientação ou informação que possa precisar.\")\n",
        "  else:\n",
        "    # Mensagem 3\n",
        "    respostas[\"O paciente consegue caminhar sozinho?\"] = perguntar(\"Mobilidade:\\nO paciente consegue caminhar sozinho?\\nSim\\nNão\", (\"sim\", \"não\"))\n",
        "    if respostas[\"O paciente consegue caminhar sozinho?\"] == \"não\":\n",
        "      ppi += 2.5\n",
        "\n",
        "      # Mensagem 4\n",
        "      respostas[\"O paciente consegue tomar banho sozinho?\"] = perguntar(\"Higiene Pessoal:\\nO paciente consegue tomar banho sozinho?\\nSim\\nNão\", (\"sim\", \"não\"))\n",
        "      if respostas[\"O paciente consegue tomar banho sozinho?\"] == \"não\":\n",
        "        ppi += 2.5\n",
        "\n",
        "        # Mensagem 5\n",
        "        respostas[\"O paciente está acamado e dependente de ajuda?\"] = perguntar(\"Dependência:\\nO paciente está acamado e dependente de ajuda?\\nSim\\nNão\", (\"sim\", \"não\"))\n",
        "        if respostas[\"O paciente está acamado e dependente de ajuda?\"] == \"sim\":\n",
        "          ppi += 4\n",
        "        else:\n",
        "          ppi += 2.5\n",
        "      else: # Se o paciente consegue tomar banho sozinho\n",
        "        ppi += 2.5\n",
        "\n",
        "    # Mensagem 6 (fora dos ifs anteriores)\n",
        "    print(\"Obrigado por responder a(s) pergunta(s).\\nAgora vamos falar sobre a alimentação do paciente.\")\n",
        "    respostas[\"Como está a alimentação do paciente?\"] = perguntar(\"Como está a alimentação do paciente?\\n1 - O paciente está comendo normalmente?\\n2 - O paciente está comendo menos que o normal?\\n3 - O paciente está comendo muito pouco ou se alimentando por sonda?\", (1, 2, 3))\n",
        "    if respostas[\"Como está a alimentação do paciente?\"] == 2:\n",
        "      ppi += 1\n",
        "    elif respostas[\"Como está a alimentação do paciente?\"] == 3:\n",
        "      ppi += 2.5\n",
        "\n",
        "    # Mensagem 7\n",
        "    respostas[\"O paciente tem inchaço?\"] = perguntar(\"O paciente tem inchaço?\\nSim\\nNão\", (\"sim\", \"não\"))\n",
        "    if respostas[\"O paciente tem inchaço?\"] == \"sim\":\n",
        "      ppi += 1\n",
        "\n",
        "    # Mensagem 8\n",
        "    respostas[\"O paciente tem falta de ar em repouso?\"] = perguntar(\"O paciente tem falta de ar em repouso?\\nSim\\nNão\", (\"sim\", \"não\"))\n",
        "    if respostas[\"O paciente tem falta de ar em repouso?\"] == \"sim\":\n",
        "      ppi += 3.5\n",
        "\n",
        "    # Mensagem 9\n",
        "    respostas[\"O paciente tem confusão mental?\"] = perguntar(\"O paciente tem confusão mental?\\nSim\\nNão\", (\"sim\", \"não\"))\n",
        "    if respostas[\"O paciente tem confusão mental?\"] == \"sim\":\n",
        "      ppi += 3.5\n",
        "\n",
        "    # Exibe o resumo das respostas\n",
        "    exibir_resumo(respostas)\n",
        "\n",
        "    # Permite que o usuário corrija as respostas\n",
        "    corrigir_respostas(respostas)\n",
        "\n",
        "    # Obter mensagem motivacional da API do Gemini\n",
        "    mensagem_motivacional = obter_mensagem_motivacional(ppi)\n",
        "\n",
        "    # Avaliação final com base no PPI\n",
        "    print(f\"PPI: {ppi}\")\n",
        "    if ppi > 6:\n",
        "      print(f\"{nome_paciente}, com base na avaliação atual, parece que o paciente está em uma fase muito delicada e pode necessitar de cuidados mais intensivos em breve.\")\n",
        "      print(\"É importante garantir conforto e apoio contínuo. Recomendamos discutir com a equipe de saúde sobre os próximos passos para o cuidado e suporte ao paciente e à família.\")\n",
        "      print(f\"\\n{mensagem_motivacional}\")\n",
        "    elif ppi > 4:\n",
        "      print(f\"{nome_paciente}, a avaliação indica que o paciente pode estar enfrentando desafios significativos em relação à sua saúde.\")\n",
        "      print(\"Sugerimos que aproveitem o tempo juntos e considerem quaisquer arranjos necessários para o conforto do paciente. A equipe de saúde está disponível para ajudar a planejar os cuidados adequados durante este período.\")\n",
        "      print(f\"\\n{mensagem_motivacional}\")\n",
        "    else:\n",
        "      print(f\"{nome_paciente}, os resultados sugerem que o paciente ainda tem um nível de independência e pode continuar com algumas de suas atividades diárias.\")\n",
        "      print(\"É uma boa oportunidade para discutir com a equipe de saúde sobre como manter a qualidade de vida e planejar cuidados de longo prazo.\")\n",
        "      print(f\"\\n{mensagem_motivacional}\")\n",
        "\n",
        "    print(f\"Isso é tudo {nome_paciente}, obrigado por responder a nossa avaliação e qualquer dúvida entre em contato com a gente que sempre estamos disponíveis pelos canais de atendimento.\")\n",
        "\n",
        "elif resposta_inicial == \"não\":\n",
        "  print(f\"{nome_paciente}, se você tem alguma dúvida sobre o uso dessas informações, lembre-se que usamos somente para uso clínico para a triagem de pacientes para cuidados paliativos e diminuir a fila de espera para pacientes que realmente necessitam desse atendimento.\")\n",
        "  print(\"Vale lembrar que também estamos de acordo com as regras da LGPD.\\nDepois de saber um pouco mais do que se trata essa avaliação, você concorda com isso?\\nSim\\nNão\")\n",
        "  resposta_final = validar_sim_nao(input())\n",
        "\n",
        "  if resposta_final == \"sim\":\n",
        "    print(f\"Agradecemos a sua resposta {nome_paciente}, agora vamos iniciar a avaliação.\")\n",
        "    print(\"Por favor, verifique sempre as respostas se estão de acordo com o seu estado clínico. Vamos lá?!\")\n",
        "\n",
        "  # Mensagem 2\n",
        "  respostas[\"Condição atual do paciente\"] = perguntar(f\"Por favor {nome_paciente}, selecione a opção que melhor descreve a condição atual do paciente:\\n1 - O paciente apresentou melhoras.\\n2 - O paciente está mantendo a mesma condição.\\n3 - A condição do paciente se agravou.\\n4 - Infelizmente, o paciente nos deixou.\", (1, 2, 3, 4))\n",
        "\n",
        "  if respostas[\"Condição atual do paciente\"] == 4:\n",
        "    print(\"Recebemos a informação de que o paciente veio a falecer. Neste momento de luto, queremos expressar nossas mais sinceras condolências.\")\n",
        "    print(\"Sabemos que não há palavras que possam verdadeiramente aliviar a dor, mas por favor, saiba que você não está sozinho.\")\n",
        "    response = model.generate_content('Crie uma mensagem curta e recomfortante de luto para alguém que perdeu um parente')\n",
        "    print(response.text)\n",
        "    print(\"Estamos aqui para oferecer apoio e assistência no que for necessário. Quando se sentir pronto, estamos disponíveis para ajudar com qualquer orientação ou informação que possa precisar\")\n",
        "  else:\n",
        "    # Mensagem 3\n",
        "    respostas[\"O paciente consegue caminhar sozinho?\"] = perguntar(\"Mobilidade:\\nO paciente consegue caminhar sozinho?\\nSim\\nNão\", (\"sim\", \"não\"))\n",
        "    if respostas[\"O paciente consegue caminhar sozinho?\"] == \"não\":\n",
        "      ppi += 2.5\n",
        "\n",
        "      # Mensagem 4\n",
        "      respostas[\"O paciente consegue tomar banho sozinho?\"] = perguntar(\"Higiene Pessoal:\\nO paciente consegue tomar banho sozinho?\\nSim\\nNão\", (\"sim\", \"não\"))\n",
        "      if respostas[\"O paciente consegue tomar banho sozinho?\"] == \"não\":\n",
        "        ppi += 2.5\n",
        "\n",
        "        # Mensagem 5\n",
        "        respostas[\"O paciente está acamado e dependente de ajuda?\"] = perguntar(\"Dependência:\\nO paciente está acamado e dependente de ajuda?\\nSim\\nNão\", (\"sim\", \"não\"))\n",
        "        if respostas[\"O paciente está acamado e dependente de ajuda?\"] == \"sim\":\n",
        "          ppi += 4\n",
        "        else:\n",
        "          ppi += 2.5\n",
        "      else: # Se o paciente consegue tomar banho sozinho\n",
        "        ppi += 2.5\n",
        "\n",
        "    # Mensagem 6 (fora dos ifs anteriores)\n",
        "    print(\"Obrigado por responder a(s) pergunta(s).\\nAgora vamos falar sobre a alimentação do paciente.\")\n",
        "    respostas[\"Como está a alimentação do paciente?\"] = perguntar(\"Como está a alimentação do paciente?\\n1 - O paciente está comendo normalmente?\\n2 - O paciente está comendo menos que o normal?\\n3 - O paciente está comendo muito pouco ou se alimentando por sonda?\", (1, 2, 3))\n",
        "    if respostas[\"Como está a alimentação do paciente?\"] == 2:\n",
        "      ppi += 1\n",
        "    elif respostas[\"Como está a alimentação do paciente?\"] == 3:\n",
        "      ppi += 2.5\n",
        "\n",
        "    # Mensagem 7\n",
        "    respostas[\"O paciente tem inchaço?\"] = perguntar(\"O paciente tem inchaço?\\nSim\\nNão\", (\"sim\", \"não\"))\n",
        "    if respostas[\"O paciente tem inchaço?\"] == \"sim\":\n",
        "      ppi += 1\n",
        "\n",
        "    # Mensagem 8\n",
        "    respostas[\"O paciente tem falta de ar em repouso?\"] = perguntar(\"O paciente tem falta de ar em repouso?\\nSim\\nNão\", (\"sim\", \"não\"))\n",
        "    if respostas[\"O paciente tem falta de ar em repouso?\"] == \"sim\":\n",
        "      ppi += 3.5\n",
        "\n",
        "    # Mensagem 9\n",
        "    respostas[\"O paciente tem confusão mental?\"] = perguntar(\"O paciente tem confusão mental?\\nSim\\nNão\", (\"sim\", \"não\"))\n",
        "    if respostas[\"O paciente tem confusão mental?\"] == \"sim\":\n",
        "      ppi += 3.5\n",
        "\n",
        "    # Exibe o resumo das respostas\n",
        "    exibir_resumo(respostas)\n",
        "\n",
        "    # Permite que o usuário corrija as respostas\n",
        "    corrigir_respostas(respostas)\n",
        "\n",
        "    # Obter mensagem motivacional da API do Gemini\n",
        "    mensagem_motivacional = obter_mensagem_motivacional(ppi)\n",
        "\n",
        "    # Avaliação final com base no PPI\n",
        "    print(f\"PPI: {ppi}\")\n",
        "    if ppi > 6:\n",
        "      print(f\"{nome_paciente}, com base na avaliação atual, parece que o paciente está em uma fase muito delicada e pode necessitar de cuidados mais intensivos em breve.\")\n",
        "      print(\"É importante garantir conforto e apoio contínuo. Recomendamos discutir com a equipe de saúde sobre os próximos passos para o cuidado e suporte ao paciente e à família.\")\n",
        "      print(f\"\\n{mensagem_motivacional}\")\n",
        "    elif ppi > 4:\n",
        "      print(f\"{nome_paciente}, a avaliação indica que o paciente pode estar enfrentando desafios significativos em relação à sua saúde.\")\n",
        "      print(\"Sugerimos que aproveitem o tempo juntos e considerem quaisquer arranjos necessários para o conforto do paciente. A equipe de saúde está disponível para ajudar a planejar os cuidados adequados durante este período.\")\n",
        "      print(f\"\\n{mensagem_motivacional}\")\n",
        "    else:\n",
        "      print(f\"{nome_paciente}, os resultados sugerem que o paciente ainda tem um nível de independência e pode continuar com algumas de suas atividades diárias.\")\n",
        "      print(\"É uma boa oportunidade para discutir com a equipe de saúde sobre como manter a qualidade de vida e planejar cuidados de longo prazo.\")\n",
        "      print(f\"\\n{mensagem_motivacional}\")\n",
        "\n",
        "  print(f\"Isso é tudo {nome_paciente}, obrigado por responder a nossa avaliação e qualquer dúvida entre em contato com a gente que sempre estamos disponíveis pelos canais de atendimento.\")\n",
        "\n",
        "else:\n",
        "    print(f\"Agradecemos a sua resposta {nome_paciente}. Entre em contato se precisar.\")"
      ],
      "metadata": {
        "colab": {
          "base_uri": "https://localhost:8080/",
          "height": 460
        },
        "id": "mX_JMwx3t1Nz",
        "outputId": "753951e9-bf47-4392-a20c-18e84f5b3690"
      },
      "execution_count": 4,
      "outputs": [
        {
          "output_type": "stream",
          "name": "stdout",
          "text": [
            "Digite o nome do paciente: Andre\n",
            "Olá Andre! Viemos hoje conversar sobre como estão os seus hábitos e o seu dia a dia para avaliarmos as suas condições clínicas.\n",
            "Vamos realizar uma avaliação através de perguntas relacionadas ao seu cotidiano.\n",
            "Suas respostas são confidenciais e usadas apenas para fins médicos. Ao continuar, você concorda com isso?\n",
            "Sim\n",
            "Não\n"
          ]
        },
        {
          "output_type": "error",
          "ename": "KeyboardInterrupt",
          "evalue": "Interrupted by user",
          "traceback": [
            "\u001b[0;31m---------------------------------------------------------------------------\u001b[0m",
            "\u001b[0;31mKeyboardInterrupt\u001b[0m                         Traceback (most recent call last)",
            "\u001b[0;32m<ipython-input-4-c0af8b14e44f>\u001b[0m in \u001b[0;36m<cell line: 171>\u001b[0;34m()\u001b[0m\n\u001b[1;32m    169\u001b[0m \u001b[0mprint\u001b[0m\u001b[0;34m(\u001b[0m\u001b[0;34m\"Suas respostas são confidenciais e usadas apenas para fins médicos. Ao continuar, você concorda com isso?\\nSim\\nNão\"\u001b[0m\u001b[0;34m)\u001b[0m\u001b[0;34m\u001b[0m\u001b[0;34m\u001b[0m\u001b[0m\n\u001b[1;32m    170\u001b[0m \u001b[0;34m\u001b[0m\u001b[0m\n\u001b[0;32m--> 171\u001b[0;31m \u001b[0mresposta_inicial\u001b[0m \u001b[0;34m=\u001b[0m \u001b[0mvalidar_sim_nao\u001b[0m\u001b[0;34m(\u001b[0m\u001b[0minput\u001b[0m\u001b[0;34m(\u001b[0m\u001b[0;34m)\u001b[0m\u001b[0;34m)\u001b[0m\u001b[0;34m\u001b[0m\u001b[0;34m\u001b[0m\u001b[0m\n\u001b[0m\u001b[1;32m    172\u001b[0m \u001b[0;34m\u001b[0m\u001b[0m\n\u001b[1;32m    173\u001b[0m \u001b[0;32mif\u001b[0m \u001b[0mresposta_inicial\u001b[0m \u001b[0;34m==\u001b[0m \u001b[0;34m\"sim\"\u001b[0m\u001b[0;34m:\u001b[0m\u001b[0;34m\u001b[0m\u001b[0;34m\u001b[0m\u001b[0m\n",
            "\u001b[0;32m/usr/local/lib/python3.10/dist-packages/ipykernel/kernelbase.py\u001b[0m in \u001b[0;36mraw_input\u001b[0;34m(self, prompt)\u001b[0m\n\u001b[1;32m    849\u001b[0m                 \u001b[0;34m\"raw_input was called, but this frontend does not support input requests.\"\u001b[0m\u001b[0;34m\u001b[0m\u001b[0;34m\u001b[0m\u001b[0m\n\u001b[1;32m    850\u001b[0m             )\n\u001b[0;32m--> 851\u001b[0;31m         return self._input_request(str(prompt),\n\u001b[0m\u001b[1;32m    852\u001b[0m             \u001b[0mself\u001b[0m\u001b[0;34m.\u001b[0m\u001b[0m_parent_ident\u001b[0m\u001b[0;34m,\u001b[0m\u001b[0;34m\u001b[0m\u001b[0;34m\u001b[0m\u001b[0m\n\u001b[1;32m    853\u001b[0m             \u001b[0mself\u001b[0m\u001b[0;34m.\u001b[0m\u001b[0m_parent_header\u001b[0m\u001b[0;34m,\u001b[0m\u001b[0;34m\u001b[0m\u001b[0;34m\u001b[0m\u001b[0m\n",
            "\u001b[0;32m/usr/local/lib/python3.10/dist-packages/ipykernel/kernelbase.py\u001b[0m in \u001b[0;36m_input_request\u001b[0;34m(self, prompt, ident, parent, password)\u001b[0m\n\u001b[1;32m    893\u001b[0m             \u001b[0;32mexcept\u001b[0m \u001b[0mKeyboardInterrupt\u001b[0m\u001b[0;34m:\u001b[0m\u001b[0;34m\u001b[0m\u001b[0;34m\u001b[0m\u001b[0m\n\u001b[1;32m    894\u001b[0m                 \u001b[0;31m# re-raise KeyboardInterrupt, to truncate traceback\u001b[0m\u001b[0;34m\u001b[0m\u001b[0;34m\u001b[0m\u001b[0m\n\u001b[0;32m--> 895\u001b[0;31m                 \u001b[0;32mraise\u001b[0m \u001b[0mKeyboardInterrupt\u001b[0m\u001b[0;34m(\u001b[0m\u001b[0;34m\"Interrupted by user\"\u001b[0m\u001b[0;34m)\u001b[0m \u001b[0;32mfrom\u001b[0m \u001b[0;32mNone\u001b[0m\u001b[0;34m\u001b[0m\u001b[0;34m\u001b[0m\u001b[0m\n\u001b[0m\u001b[1;32m    896\u001b[0m             \u001b[0;32mexcept\u001b[0m \u001b[0mException\u001b[0m \u001b[0;32mas\u001b[0m \u001b[0me\u001b[0m\u001b[0;34m:\u001b[0m\u001b[0;34m\u001b[0m\u001b[0;34m\u001b[0m\u001b[0m\n\u001b[1;32m    897\u001b[0m                 \u001b[0mself\u001b[0m\u001b[0;34m.\u001b[0m\u001b[0mlog\u001b[0m\u001b[0;34m.\u001b[0m\u001b[0mwarning\u001b[0m\u001b[0;34m(\u001b[0m\u001b[0;34m\"Invalid Message:\"\u001b[0m\u001b[0;34m,\u001b[0m \u001b[0mexc_info\u001b[0m\u001b[0;34m=\u001b[0m\u001b[0;32mTrue\u001b[0m\u001b[0;34m)\u001b[0m\u001b[0;34m\u001b[0m\u001b[0;34m\u001b[0m\u001b[0m\n",
            "\u001b[0;31mKeyboardInterrupt\u001b[0m: Interrupted by user"
          ]
        }
      ]
    }
  ]
}